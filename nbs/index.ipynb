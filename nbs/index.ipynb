{
 "cells": [
  {
   "cell_type": "markdown",
   "metadata": {},
   "source": [
    "---\n",
    "title: \"Benedicts Blog\"\n",
    "listing:\n",
    "  id: sample-listings\n",
    "  contents: posts\n",
    "  sort: \"date desc\"\n",
    "  type: default\n",
    "  categories: true\n",
    "---"
   ]
  }
 ],
 "metadata": {
  "kernelspec": {
   "display_name": "python3",
   "language": "python",
   "name": "python3"
  }
 },
 "nbformat": 4,
 "nbformat_minor": 4
}
