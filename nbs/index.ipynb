{
 "cells": [
  {
   "cell_type": "markdown",
   "metadata": {},
   "source": [
    "---\n",
    "title: \"Benedicts Blog\"\n",
    "listing:\n",
    "  id: sample-listings\n",
    "  contents: \n",
    "    posts\n",
    "  sort: \"date desc\"\n",
    "  type: default\n",
    "  sort-ui: true\n",
    "  filter-ui: true\n",
    "  field-display-names:\n",
    "    name: \"Name\"\n",
    "    custom-field: \"Custom\"\n",
    "  field-types:\n",
    "    custom-date: date\n",
    "    custom-number: number\n",
    "---"
   ]
  },
  {
   "cell_type": "markdown",
   "metadata": {},
   "source": [
    "You can review the following documents for additional information:\n",
    "\n",
    "::: {#sample-listings}\n",
    "a\n",
    "\n",
    "a\n",
    "a\n",
    "a\n",
    "a\n",
    ":::\n",
    "\n",
    "Learn more about Quarto [here](https://www.quarto.com)."
   ]
  }
 ],
 "metadata": {
  "kernelspec": {
   "display_name": "python3",
   "language": "python",
   "name": "python3"
  }
 },
 "nbformat": 4,
 "nbformat_minor": 4
}
