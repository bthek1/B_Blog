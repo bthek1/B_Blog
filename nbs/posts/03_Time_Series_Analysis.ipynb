{
 "cells": [
  {
   "cell_type": "markdown",
   "metadata": {},
   "source": [
    "---\n",
    "title: \"Building, testing and Deploying Time-Series ML models\"\n",
    "description: \"During my internship, I was tasked with developing models to forecast electricity usage for an electricity monitoring company.\"\n",
    "author: \"Benedict Thekkel\"\n",
    "date: \"04/24/2024\"\n",
    "skip_showdoc: true\n",
    "skip_exec: true\n",
    "---\n"
   ]
  },
  {
   "cell_type": "code",
   "execution_count": null,
   "metadata": {},
   "outputs": [],
   "source": [
    "#| default_exp future"
   ]
  },
  {
   "cell_type": "markdown",
   "metadata": {},
   "source": [
    "## Time Series Analysis\n",
    "\n",
    "> [https://bthek1.github.io/TimeSeriesML/](https://bthek1.github.io/TimeSeriesML/)\n"
   ]
  },
  {
   "cell_type": "markdown",
   "metadata": {},
   "source": [
    "Developed during my exploration of Time Series Machine Learning methodologies for my internship, this Time Series technique operates similarly to traditional ML models. However, due to the temporal nature of the data, many techniques require adjustments and sequential training to effectively capture patterns and make accurate predictions.\n",
    "\n",
    "In time series ML, models need to be trained and evaluated differently. For instance, instead of randomly splitting data into training and testing sets, chronological ordering is crucial, with earlier data used for training and later data for testing. Additionally, techniques like feature engineering may involve creating lag features or rolling statistics to capture temporal patterns.\n",
    "\n",
    "Overall, the primary difference lies in how time series ML methods handle the time-dependent nature of the data, requiring specialized techniques tailored to sequential data analysis."
   ]
  },
  {
   "cell_type": "markdown",
   "metadata": {},
   "source": [
    "### Techniques covered include:"
   ]
  },
  {
   "cell_type": "markdown",
   "metadata": {},
   "source": [
    "Statical models:\n",
    "- AutoARIMA\n",
    "- HoltWinters\n",
    "- CrostonClassic\n",
    "- HistoricAverage\n",
    "- DynamicOptimizedTheta as DOT\n",
    "- SeasonalNaive\n",
    "- MSTL"
   ]
  },
  {
   "cell_type": "markdown",
   "metadata": {},
   "source": [
    "ML models:\n",
    "- XGBRegressor \n",
    "- LGBMRegressor \n",
    "- LinearRegression"
   ]
  },
  {
   "cell_type": "markdown",
   "metadata": {},
   "source": [
    "Neural Networks\n",
    "- NBEATS\n",
    "- NHITS\n",
    "- MLP\n",
    "- RNN\n",
    "- LSTM"
   ]
  },
  {
   "cell_type": "markdown",
   "metadata": {},
   "source": [
    "### Libraries Covered"
   ]
  },
  {
   "cell_type": "markdown",
   "metadata": {},
   "source": [
    "- Nixtla\n",
    "- Darts\n",
    "- XGBoost\n",
    "- Prophet"
   ]
  },
  {
   "cell_type": "code",
   "execution_count": null,
   "metadata": {},
   "outputs": [],
   "source": []
  }
 ],
 "metadata": {
  "kernelspec": {
   "display_name": "python3",
   "language": "python",
   "name": "python3"
  },
  "widgets": {
   "application/vnd.jupyter.widget-state+json": {
    "state": {},
    "version_major": 2,
    "version_minor": 0
   }
  }
 },
 "nbformat": 4,
 "nbformat_minor": 4
}
