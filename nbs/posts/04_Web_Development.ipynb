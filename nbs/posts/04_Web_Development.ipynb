{
 "cells": [
  {
   "cell_type": "markdown",
   "metadata": {},
   "source": [
    "\n",
    "# Adventure into Web and App development\n",
    "\n",
    "> I came to the realization that knowledge of AI along isn't that useful unless you can deploy it the public. Hence my interest into web development.\n",
    "\n",
    "- author: \"Benedict Thekkel\"\n",
    "- date: \"04/23/2024\"\n",
    "- skip_showdoc: true\n",
    "- skip_exec: true"
   ]
  },
  {
   "cell_type": "code",
   "execution_count": null,
   "metadata": {},
   "outputs": [],
   "source": [
    "#| default_exp future"
   ]
  },
  {
   "cell_type": "markdown",
   "metadata": {},
   "source": [
    "## Web Development\n",
    "\n",
    "> [https://bthek1.github.io/webdevelopment_doc/](https://bthek1.github.io/webdevelopment_doc/)"
   ]
  },
  {
   "cell_type": "markdown",
   "metadata": {},
   "source": [
    "Web Developement contains information many of servers application I have used untill now aswell as database and front-end applications. There include:"
   ]
  },
  {
   "cell_type": "markdown",
   "metadata": {},
   "source": [
    "### Back-end"
   ]
  },
  {
   "cell_type": "markdown",
   "metadata": {},
   "source": [
    "- Influx\n",
    "- Django\n",
    "- Nginx\n",
    "- Docker\n",
    "- Prefect"
   ]
  },
  {
   "cell_type": "markdown",
   "metadata": {},
   "source": [
    "### Front-end"
   ]
  },
  {
   "cell_type": "markdown",
   "metadata": {},
   "source": [
    "- Streamlit\n",
    "- Gradio\n",
    "- Flutter\n",
    "- React\n",
    "- React-Naive"
   ]
  },
  {
   "cell_type": "code",
   "execution_count": null,
   "metadata": {},
   "outputs": [],
   "source": []
  }
 ],
 "metadata": {
  "kernelspec": {
   "display_name": "python3",
   "language": "python",
   "name": "python3"
  },
  "widgets": {
   "application/vnd.jupyter.widget-state+json": {
    "state": {},
    "version_major": 2,
    "version_minor": 0
   }
  }
 },
 "nbformat": 4,
 "nbformat_minor": 4
}
