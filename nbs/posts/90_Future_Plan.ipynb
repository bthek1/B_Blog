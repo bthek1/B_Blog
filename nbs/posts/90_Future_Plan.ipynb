{
 "cells": [
  {
   "cell_type": "markdown",
   "metadata": {},
   "source": [
    "# \"Future Plan\"\n",
    "\n",
    "> \"Breakdown of future learning goals\"\n",
    "\n",
    "author: \"Benedict Thekkel\"\n",
    "date: \"04/21/2024\"\n",
    "skip_showdoc: true\n",
    "skip_exec: true\n"
   ]
  },
  {
   "cell_type": "code",
   "execution_count": null,
   "metadata": {},
   "outputs": [],
   "source": [
    "#| default_exp future"
   ]
  },
  {
   "cell_type": "code",
   "execution_count": null,
   "metadata": {},
   "outputs": [
    {
     "data": {
      "text/plain": [
       "'\\nAim: Freedom to innovate: reduce barrier to entry\\n\\nFears: communication\\n'"
      ]
     },
     "execution_count": null,
     "metadata": {},
     "output_type": "execute_result"
    }
   ],
   "source": [
    "#|echo: false\n",
    "#|output: false\n",
    "'''\n",
    "Aim: Freedom to innovate: reduce barrier to entry\n",
    "\n",
    "Fears: communication\n",
    "'''"
   ]
  },
  {
   "cell_type": "markdown",
   "metadata": {},
   "source": [
    "## Internship "
   ]
  },
  {
   "cell_type": "markdown",
   "metadata": {},
   "source": [
    "- git,\n",
    "- phisaver integration\n",
    "- clean up\n",
    "- FFT"
   ]
  },
  {
   "cell_type": "markdown",
   "metadata": {},
   "source": [
    "## Laser"
   ]
  },
  {
   "cell_type": "markdown",
   "metadata": {},
   "source": [
    "- shipstation\n",
    "- photoshop\n",
    "- designs"
   ]
  },
  {
   "cell_type": "markdown",
   "metadata": {},
   "source": [
    "## FASTAI, CSSEML, MATLAB"
   ]
  },
  {
   "cell_type": "markdown",
   "metadata": {},
   "source": [
    "## Drone - Drop shipping"
   ]
  },
  {
   "cell_type": "markdown",
   "metadata": {},
   "source": [
    "## Blog - clean up\n"
   ]
  },
  {
   "cell_type": "markdown",
   "metadata": {},
   "source": [
    "## MLTOOLS"
   ]
  },
  {
   "cell_type": "markdown",
   "metadata": {},
   "source": [
    "- matplot\n",
    "- numpy\n",
    "- scipy\n",
    "- git fork, submodules"
   ]
  },
  {
   "cell_type": "markdown",
   "metadata": {},
   "source": [
    "## Webdevelopment"
   ]
  },
  {
   "cell_type": "markdown",
   "metadata": {},
   "source": [
    "- oracle\n",
    "- django\n",
    "- react"
   ]
  },
  {
   "cell_type": "markdown",
   "metadata": {},
   "source": [
    "## App development"
   ]
  },
  {
   "cell_type": "markdown",
   "metadata": {},
   "source": [
    "- flutter\n",
    "- 3D vision"
   ]
  },
  {
   "cell_type": "code",
   "execution_count": null,
   "metadata": {},
   "outputs": [],
   "source": []
  }
 ],
 "metadata": {
  "kernelspec": {
   "display_name": "python3",
   "language": "python",
   "name": "python3"
  },
  "widgets": {
   "application/vnd.jupyter.widget-state+json": {
    "state": {},
    "version_major": 2,
    "version_minor": 0
   }
  }
 },
 "nbformat": 4,
 "nbformat_minor": 4
}
